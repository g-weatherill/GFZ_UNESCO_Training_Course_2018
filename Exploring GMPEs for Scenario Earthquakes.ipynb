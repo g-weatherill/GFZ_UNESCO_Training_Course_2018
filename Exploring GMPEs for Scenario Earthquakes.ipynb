{
 "cells": [
  {
   "cell_type": "code",
   "execution_count": null,
   "metadata": {},
   "outputs": [],
   "source": [
    "%matplotlib inline\n",
    "import numpy as np\n",
    "import matplotlib.pyplot as plt\n",
    "from openquake.hazardlib.gsim import get_available_gsims\n",
    "from openquake.hazardlib.gsim.base import RuptureContext, SitesContext, DistancesContext\n",
    "from openquake.hazardlib.imt import PGA, SA, PGV\n",
    "from openquake.hazardlib import const\n",
    "from openquake.hazardlib.geo import (Point, Line, Polygon, Mesh,\n",
    "                                     SimpleFaultSurface,\n",
    "                                     PlanarSurface,\n",
    "                                     ComplexFaultSurface)"
   ]
  },
  {
   "cell_type": "markdown",
   "metadata": {},
   "source": [
    "### Running GMPEs (and plotting them) with OpenQuake"
   ]
  },
  {
   "cell_type": "markdown",
   "metadata": {},
   "source": [
    "##### Selecting the GMPE"
   ]
  },
  {
   "cell_type": "markdown",
   "metadata": {},
   "source": [
    "The complete documentation for OpenQuake GMPEs (updated nightly) can be found here:\n",
    "\n",
    "https://docs.openquake.org/oq-engine/master/openquake.hazardlib.gsim.html\n",
    "\n",
    "A quick command to show the names of all the GMPEs available in the version you are using can be seen below"
   ]
  },
  {
   "cell_type": "code",
   "execution_count": null,
   "metadata": {
    "scrolled": true
   },
   "outputs": [],
   "source": [
    "gmpe_list = get_available_gsims()\n",
    "for gmpe_name in gmpe_list:\n",
    "    print(gmpe_name)"
   ]
  },
  {
   "cell_type": "markdown",
   "metadata": {},
   "source": [
    "<b>What information does your GMPE require in order to calculate the ground motion?</b>\n",
    "\n",
    "OpenQuake uses objects (\"Contexts\") to organise this information into Rupture parameters, Site parameters and Distance (Path) parameters. Every GMPE implemented in OpenQuake specifies which parameters is needs.\n",
    "\n",
    "For example, let's take a look at Boore et al. (2014)"
   ]
  },
  {
   "cell_type": "code",
   "execution_count": null,
   "metadata": {},
   "outputs": [],
   "source": [
    "boore_2014 = gmpe_list[\"BooreEtAl2014\"]()\n",
    "print(boore_2014.REQUIRES_RUPTURE_PARAMETERS)\n",
    "print(boore_2014.REQUIRES_DISTANCES)\n",
    "print(boore_2014.REQUIRES_SITES_PARAMETERS)"
   ]
  },
  {
   "cell_type": "markdown",
   "metadata": {},
   "source": [
    "So, let's set up a simple scenario for this GMPE\n",
    "\n",
    "I want to see the \"scenario spectrum\" from this GMPE for a site located at a distance of 20 km from the surface projection of the fault rupture (the \"Joyner-Boore\" distance, or $R_{JB}$). The magnitude of the earthquake is $M_W$ 6.5 and the style of faulting is reverse.\n",
    "\n",
    "OpenQuake uses rake to define style-of-faulting according to the Aki & Richards (2002) convention:\n",
    "\n",
    "Normal faulting: Rake = -90$^{\\circ}$\n",
    "\n",
    "Reverse faulting: Rake = 90$^{\\circ}$\n",
    "\n",
    "Strike-slip faulting: Rake = 0$^{\\circ}$ or 180$^{\\circ}$ \n",
    "\n",
    "Finally, we will assume that the site has an averaged 30-m shearwave velocity ($V_{S30}$) of 570 m/s\n",
    "\n"
   ]
  },
  {
   "cell_type": "markdown",
   "metadata": {},
   "source": [
    "##### Setup the configuration"
   ]
  },
  {
   "cell_type": "code",
   "execution_count": null,
   "metadata": {
    "collapsed": true
   },
   "outputs": [],
   "source": [
    "# Rupture Context\n",
    "rctx = RuptureContext()\n",
    "rctx.mag = 6.5\n",
    "rctx.rake = 90.0\n",
    "\n",
    "# Sites Context - Note this must be input as a numpy array\n",
    "sctx = SitesContext()\n",
    "sctx.vs30 = np.array([570.])\n",
    "\n",
    "# Distances Context - This must also be input as an array\n",
    "dctx = DistancesContext()\n",
    "dctx.rjb = np.array([20.0])"
   ]
  },
  {
   "cell_type": "markdown",
   "metadata": {},
   "source": [
    "Now choose the period range for which we which to calculate ground motion. The selected GMPE Boore et al. ranges from 0.01 s to 10.0 s"
   ]
  },
  {
   "cell_type": "code",
   "execution_count": null,
   "metadata": {},
   "outputs": [],
   "source": [
    "# A quick trick - define 70 values logarithmically spaced between 0.01 and 10\n",
    "periods = np.logspace(-2., 1., 70)\n",
    "print(periods)"
   ]
  },
  {
   "cell_type": "markdown",
   "metadata": {},
   "source": [
    "Need to turn these into \"intensity measure type (IMT)\" objects"
   ]
  },
  {
   "cell_type": "code",
   "execution_count": null,
   "metadata": {
    "scrolled": false
   },
   "outputs": [],
   "source": [
    "imts = [SA(per) for per in periods]\n",
    "print(imts)"
   ]
  },
  {
   "cell_type": "markdown",
   "metadata": {},
   "source": [
    "Some notes: \n",
    "\n",
    "OpenQuake's GMPEs are vectorised by sites/distances (not periods)!\n",
    "\n",
    "The GMPEs also return their standard deviations - can take this into account\n",
    "\n",
    "The GMPEs return the natural logarithm of the mean ground motion"
   ]
  },
  {
   "cell_type": "code",
   "execution_count": null,
   "metadata": {
    "collapsed": true
   },
   "outputs": [],
   "source": [
    "# Asking the GMPE to return only the total standard deviation\n",
    "stddev_types = [const.StdDev.TOTAL]"
   ]
  },
  {
   "cell_type": "markdown",
   "metadata": {},
   "source": [
    "Now lets build the scenario spectum (need to loop over periods)"
   ]
  },
  {
   "cell_type": "code",
   "execution_count": null,
   "metadata": {
    "scrolled": false
   },
   "outputs": [],
   "source": [
    "# Pre-allocate results vectors\n",
    "means = np.zeros_like(periods)\n",
    "means_plus_1sd = np.zeros_like(periods)\n",
    "means_minus_1sd = np.zeros_like(periods)\n",
    "stddevs = np.zeros_like(periods)\n",
    "\n",
    "# Loop over each IMT\n",
    "for i, imt in enumerate(imts):\n",
    "    # Call the function `get_mean_and_stddevs` - which every GMPE has\n",
    "    mean, [stddev] = boore_2014.get_mean_and_stddevs(sctx, rctx, dctx, imt, stddev_types)\n",
    "    means[i] = np.exp(mean)\n",
    "    means_plus_1sd[i] = np.exp(mean + stddev)\n",
    "    means_minus_1sd[i] = np.exp(mean - stddev)\n",
    "    stddevs[i] = stddev\n",
    "\n",
    "# View the results\n",
    "print(\"Period (s)  Sa (g)   Sigma\")\n",
    "for imt, mean, stddev in zip(imts, means, stddevs):\n",
    "    print(\"{:10.4f}  {:6.4f}  {:6.4f}\".format(imt.period, mean, stddev))"
   ]
  },
  {
   "cell_type": "markdown",
   "metadata": {},
   "source": [
    "Now plot the mean ground motions plus/minus one standard deviation"
   ]
  },
  {
   "cell_type": "code",
   "execution_count": null,
   "metadata": {},
   "outputs": [],
   "source": [
    "plt.figure(figsize=(8,8))\n",
    "plt.semilogx(periods, means, \"b-\", lw=2, label=\"Mean\")\n",
    "plt.semilogx(periods, means_plus_1sd, \"b--\", lw=1.2)\n",
    "plt.semilogx(periods, means_minus_1sd, \"b--\", lw=1.2, label=r\"$\\pm 1 \\sigma$\")\n",
    "# Add grids, labels, set limits etc\n",
    "plt.grid()\n",
    "plt.xlabel(\"Period\", fontsize=16)\n",
    "plt.ylabel(\"Sa (g)\", fontsize=16)\n",
    "plt.xlim(0.01, 10.)\n",
    "plt.ylim(bottom=0.0)\n",
    "plt.legend(fontsize=18)"
   ]
  },
  {
   "cell_type": "markdown",
   "metadata": {},
   "source": [
    "### Now let's compare several GMPEs"
   ]
  },
  {
   "cell_type": "markdown",
   "metadata": {},
   "source": [
    "So far we have plotted the scenario spectrum for a single GMPEs. We might be interested to know how several GMPEs compare.\n",
    "\n",
    "Let's compare one \"Global\" model (Boore et al. 2014), one \"European\" Model (Akkar et al., 2014) and one model based mostly on Japanese data (Cauzzi et al. 2014)\n",
    "\n",
    "Firstly, what information do they need:"
   ]
  },
  {
   "cell_type": "code",
   "execution_count": null,
   "metadata": {},
   "outputs": [],
   "source": [
    "# Define the GMPE list\n",
    "gmpes = [gmpe_list[\"BooreEtAl2014\"](), gmpe_list[\"AkkarEtAlRjb2014\"](), gmpe_list['CauzziEtAl2014']()]\n",
    "\n",
    "for gmpe in gmpes:\n",
    "    # Each GMPE has the following information\n",
    "    print(str(gmpe))\n",
    "    print(gmpe.REQUIRES_RUPTURE_PARAMETERS)\n",
    "    print(gmpe.REQUIRES_DISTANCES)\n",
    "    print(gmpe.REQUIRES_SITES_PARAMETERS)"
   ]
  },
  {
   "cell_type": "markdown",
   "metadata": {},
   "source": [
    "It seems that Cauzzi et al. is using a different distance metric - so need to define it.\n",
    "\n",
    "Let's imagine our rupture doesn't reach the surface - it stops about 2 km below it (is a \"blind fault\").\n",
    "\n",
    "For convenience we will also assume that our site is on the \"footwall\" of the rupture (i.e. it is dipping away from the site)"
   ]
  },
  {
   "cell_type": "code",
   "execution_count": null,
   "metadata": {
    "collapsed": true
   },
   "outputs": [],
   "source": [
    "dctx.rrup = np.sqrt(dctx.rjb ** 2. + 2.0 ** 2.)"
   ]
  },
  {
   "cell_type": "markdown",
   "metadata": {},
   "source": [
    "Now to run the GMPEs. It is helpful to keep the results organised, so I will use a dictionary for this"
   ]
  },
  {
   "cell_type": "code",
   "execution_count": null,
   "metadata": {},
   "outputs": [],
   "source": [
    "results = {} # Empty dictionary\n",
    "for gmpe in gmpes:\n",
    "    print(\"Running GMPE %s\" % str(gmpe))\n",
    "    # Add a results dictionary for each GMPE\n",
    "    results[str(gmpe)] = {\"mean\": np.zeros_like(periods),\n",
    "                          \"stddevs\": np.zeros_like(periods),\n",
    "                          \"mean_plus_1sd\": np.zeros_like(periods),\n",
    "                          \"mean_minus_1sd\": np.zeros_like(periods)}\n",
    "    for i, imt in enumerate(imts):\n",
    "        mean, [stddev] = gmpe.get_mean_and_stddevs(sctx, rctx, dctx, imt, stddev_types)\n",
    "        results[gmpe][\"mean\"][i] = np.exp(mean)\n",
    "        results[gmpe][\"stddevs\"][i] = stddev\n",
    "        results[gmpe][\"mean_plus_1sd\"][i] = np.exp(mean + stddev)\n",
    "        results[gmpe][\"mean_minus_1sd\"][i] = np.exp(mean - stddev)"
   ]
  },
  {
   "cell_type": "markdown",
   "metadata": {},
   "source": [
    "<b>What happened?</b>\n",
    "\n",
    "Not all of the GMPEs are defined for the same period range - Akkar et al. (2014) only goes up to 4 seconds.\n",
    "\n",
    "We could just limit our spectrum to the periods that are common to all GMPEs. Easy but then you might miss interesting results!\n",
    "\n",
    "Instead, lets use Python's \"try-catch\" functionality to get values when they can be calculated and just return \"not-a-number\" (`np.nan`) otherwise"
   ]
  },
  {
   "cell_type": "code",
   "execution_count": null,
   "metadata": {},
   "outputs": [],
   "source": [
    "results = {} # Empty dictionary\n",
    "for gmpe in gmpes:\n",
    "    print(\"Running GMPE %s\" % str(gmpe))\n",
    "    results[str(gmpe)] = {\"mean\": np.zeros_like(periods),\n",
    "                          \"stddevs\": np.zeros_like(periods),\n",
    "                          \"mean_plus_1sd\": np.zeros_like(periods),\n",
    "                          \"mean_minus_1sd\": np.zeros_like(periods)}\n",
    "    for i, imt in enumerate(imts):\n",
    "        try:\n",
    "            mean, [stddev] = gmpe.get_mean_and_stddevs(sctx, rctx, dctx, imt, stddev_types)\n",
    "            results[gmpe][\"mean\"][i] = np.exp(mean)\n",
    "            results[gmpe][\"stddevs\"][i] = stddev\n",
    "            results[gmpe][\"mean_plus_1sd\"][i] = np.exp(mean + stddev)\n",
    "            results[gmpe][\"mean_minus_1sd\"][i] = np.exp(mean - stddev)\n",
    "        except KeyError:\n",
    "            # If it raises the error we have just seen (a KeyError) - put in nans\n",
    "            results[gmpe][\"mean\"][i] = np.nan\n",
    "            results[gmpe][\"stddevs\"][i] = np.nan\n",
    "            results[gmpe][\"mean_plus_1sd\"][i] = np.nan\n",
    "            results[gmpe][\"mean_minus_1sd\"][i] = np.nan"
   ]
  },
  {
   "cell_type": "markdown",
   "metadata": {},
   "source": [
    "We will find we need to use this last piece of code over again - so let's turn it into a function"
   ]
  },
  {
   "cell_type": "code",
   "execution_count": null,
   "metadata": {
    "collapsed": true
   },
   "outputs": [],
   "source": [
    "def calculate_ground_motions(gmpes, imts, sctx, rctx, dctx, stddev_types):\n",
    "    \"\"\"\n",
    "    It's good practice to comment functions ... so here it is:\n",
    "\n",
    "    Calculates the expected ground motion and uncertainty, organised by GMPE\n",
    "    and intensity measure type (i.e. PGA, SA etc.), for a given rupture-site configuration    \n",
    "    \"\"\"\n",
    "    results = {} # Empty dictionary\n",
    "    nper = len(imts)\n",
    "    for gmpe in gmpes:\n",
    "        print(\"Running GMPE %s\" % str(gmpe))\n",
    "        results[str(gmpe)] = {\"mean\": np.zeros(nper),\n",
    "                              \"stddevs\": np.zeros(nper),\n",
    "                              \"mean_plus_1sd\": np.zeros(nper),\n",
    "                              \"mean_minus_1sd\": np.zeros(nper)}\n",
    "        for i, imt in enumerate(imts):\n",
    "            try:\n",
    "                mean, [stddev] = gmpe.get_mean_and_stddevs(sctx, rctx, dctx, imt, stddev_types)\n",
    "                results[gmpe][\"mean\"][i] = np.exp(mean)\n",
    "                results[gmpe][\"stddevs\"][i] = stddev\n",
    "                results[gmpe][\"mean_plus_1sd\"][i] = np.exp(mean + stddev)\n",
    "                results[gmpe][\"mean_minus_1sd\"][i] = np.exp(mean - stddev)\n",
    "            except KeyError:\n",
    "                # If it raises the error we have just seen (a KeyError) - put in nans\n",
    "                results[gmpe][\"mean\"][i] = np.nan\n",
    "                results[gmpe][\"stddevs\"][i] = np.nan\n",
    "                results[gmpe][\"mean_plus_1sd\"][i] = np.nan\n",
    "                results[gmpe][\"mean_minus_1sd\"][i] = np.nan\n",
    "    return results"
   ]
  },
  {
   "cell_type": "markdown",
   "metadata": {},
   "source": [
    "Plot the scenario results"
   ]
  },
  {
   "cell_type": "code",
   "execution_count": null,
   "metadata": {},
   "outputs": [],
   "source": [
    "plt.figure(figsize=(8,8))\n",
    "# The zip function joins together two lists - here we are linking each list with a specific plotting colour\n",
    "for gmpe, color in zip(gmpes, [\"r\", \"b\", \"k\"]):\n",
    "    # Plot the mean and plus/minus 1 stddev for each GMPE\n",
    "    plt.semilogx(periods, results[str(gmpe)][\"mean\"], \"-\", color=color, lw=2, label=str(gmpe))\n",
    "    plt.semilogx(periods, results[str(gmpe)][\"mean_plus_1sd\"], \"--\", color=color, lw=1.2)\n",
    "    plt.semilogx(periods, results[str(gmpe)][\"mean_minus_1sd\"], \"--\", color=color, lw=1.2)\n",
    "plt.grid()\n",
    "plt.xlabel(\"Period\", fontsize=16)\n",
    "plt.ylabel(\"Sa (g)\", fontsize=16)\n",
    "plt.xlim(0.01, 10.)\n",
    "plt.ylim(bottom=0.0)\n",
    "plt.legend(fontsize=16)"
   ]
  },
  {
   "cell_type": "markdown",
   "metadata": {},
   "source": [
    "We can also take a look at the total standard deviations too"
   ]
  },
  {
   "cell_type": "code",
   "execution_count": null,
   "metadata": {},
   "outputs": [],
   "source": [
    "plt.figure(figsize=(8,8))\n",
    "for gmpe, color in zip(gmpes, [\"r\", \"b\", \"k\"]):\n",
    "    plt.semilogx(periods, results[str(gmpe)][\"stddevs\"], \"-\", color=color, lw=2, label=str(gmpe))\n",
    "\n",
    "plt.grid()\n",
    "plt.xlabel(\"Period\", fontsize=16)\n",
    "plt.ylabel(\"Total Std. Dev\", fontsize=16)\n",
    "plt.xlim(0.01, 10.)\n",
    "plt.ylim(0.0, 1.0)\n",
    "plt.legend(fontsize=16)"
   ]
  },
  {
   "cell_type": "markdown",
   "metadata": {},
   "source": [
    "### Comparing GMPEs - Attenuation with distance"
   ]
  },
  {
   "cell_type": "markdown",
   "metadata": {},
   "source": [
    "We have seen how the spectra of the GMPEs compare for a single site and single scenario - clearly there are differences?\n",
    "\n",
    "To understand more perhaps we can compare how the ground motion is changing with distance from the rupture"
   ]
  },
  {
   "cell_type": "code",
   "execution_count": null,
   "metadata": {
    "collapsed": true
   },
   "outputs": [],
   "source": [
    "dctx = DistancesContext()\n",
    "# Now define a vector of distances from 0 km to 150 km\n",
    "dctx.rjb = np.arange(0., 151., 1.)\n",
    "dctx.rrup = np.sqrt(dctx.rjb ** 2. + 2.0 ** 2.)\n",
    "\n",
    "# Now we have a vector of distances we need a vector of site terms\n",
    "sctx = SitesContext()\n",
    "sctx.vs30 = 570.0 * np.ones_like(dctx.rjb)"
   ]
  },
  {
   "cell_type": "markdown",
   "metadata": {},
   "source": [
    "Let's take a look at two intensity measures: PGA and 0.3 s spectral acceleration"
   ]
  },
  {
   "cell_type": "code",
   "execution_count": null,
   "metadata": {},
   "outputs": [],
   "source": [
    "nsites = len(dctx.rjb)\n",
    "# Setup an empty dictionary to store results\n",
    "results = {}\n",
    "# Define our two intensity measures\n",
    "imts = [PGA(), SA(0.3)]\n",
    "for imt in imts:\n",
    "    imt_name = str(imt)\n",
    "    # For each intensity measure - create it's own empty dictionary\n",
    "    results[imt_name] = {}\n",
    "    print(imt_name)\n",
    "    for gmpe in gmpes:\n",
    "        gmpe_name = str(gmpe)\n",
    "        print(gmpe_name)\n",
    "        results[imt_name][gmpe_name] = {}\n",
    "        # Run the GMPE\n",
    "        mean, [stddev] = gmpe.get_mean_and_stddevs(sctx, rctx, dctx, imt, stddev_types)\n",
    "        # Organise the results\n",
    "        results[imt_name][gmpe_name][\"mean\"] = np.exp(mean)\n",
    "        results[imt_name][gmpe_name][\"stddev\"] = stddev\n",
    "        results[imt_name][gmpe_name][\"mean_plus_1sd\"] = np.exp(mean + stddev)\n",
    "        results[imt_name][gmpe_name][\"mean_minus_1sd\"] = np.exp(mean - stddev)"
   ]
  },
  {
   "cell_type": "markdown",
   "metadata": {},
   "source": [
    "Now plot the results"
   ]
  },
  {
   "cell_type": "code",
   "execution_count": null,
   "metadata": {},
   "outputs": [],
   "source": [
    "fig = plt.figure(figsize=(12, 7))\n",
    "# Using subplots here\n",
    "# The first subplot shows the results for PGA\n",
    "ax1 = fig.add_subplot(121)\n",
    "for gmpe, color in zip(gmpes, [\"r\", \"b\", \"k\"]):\n",
    "    ax1.loglog(dctx.rjb, results[\"PGA\"][str(gmpe)][\"mean\"], \"-\", color=color, lw=2, label=str(gmpe))\n",
    "    ax1.loglog(dctx.rjb, results[\"PGA\"][str(gmpe)][\"mean_plus_1sd\"], \"--\", color=color, lw=1.2)\n",
    "    ax1.loglog(dctx.rjb, results[\"PGA\"][str(gmpe)][\"mean_minus_1sd\"], \"--\", color=color, lw=1.2)\n",
    "ax1.set_xlim(1., 150.)\n",
    "ax1.set_ylim(0.005, 3.)\n",
    "ax1.set_xlabel(r\"Distance $R_{JB}$ (km)\", fontsize=14)\n",
    "ax1.set_ylabel(\"PGA (g)\", fontsize=14)\n",
    "ax1.grid(True)\n",
    "\n",
    "# The second subplot shows the results for Sa(0.3 s)\n",
    "ax2 = fig.add_subplot(122)\n",
    "for gmpe, color in zip(gmpes, [\"r\", \"b\", \"k\"]):\n",
    "    ax2.loglog(dctx.rjb, results[\"SA(0.3)\"][str(gmpe)][\"mean\"], \"-\", color=color, lw=2, label=str(gmpe))\n",
    "    ax2.loglog(dctx.rjb, results[\"SA(0.3)\"][str(gmpe)][\"mean_plus_1sd\"], \"--\", color=color, lw=1.2)\n",
    "    ax2.loglog(dctx.rjb, results[\"SA(0.3)\"][str(gmpe)][\"mean_minus_1sd\"], \"--\", color=color, lw=1.2)\n",
    "ax2.set_xlim(1., 150.)\n",
    "ax2.set_ylim(0.005, 3.)\n",
    "ax2.set_xlabel(r\"Distance $R_{JB}$ (km)\", fontsize=14)\n",
    "ax2.set_ylabel(\"SA(0.3 s) (g)\", fontsize=14)\n",
    "ax2.grid(True)\n",
    "ax2.legend(fontsize=14)"
   ]
  },
  {
   "cell_type": "code",
   "execution_count": null,
   "metadata": {},
   "outputs": [],
   "source": [
    "fig = plt.figure(figsize=(12, 7))\n",
    "# Using subplots here\n",
    "# The first subplot shows the results for PGA\n",
    "ax1 = fig.add_subplot(121)\n",
    "for gmpe, color in zip(gmpes, [\"r\", \"b\", \"k\"]):\n",
    "    ax1.semilogx(dctx.rjb, results[\"PGA\"][str(gmpe)][\"stddev\"], \"-\", color=color, lw=2, label=str(gmpe))\n",
    "ax1.set_xlim(1., 150.)\n",
    "ax1.set_ylim(0.0, 1.)\n",
    "ax1.set_xlabel(r\"Distance $R_{JB}$ (km)\", fontsize=14)\n",
    "ax1.set_ylabel(\"Total Standard Deviation, PGA\", fontsize=14)\n",
    "ax1.grid(True)\n",
    "\n",
    "# The second subplot shows the results for Sa(0.3 s)\n",
    "ax2 = fig.add_subplot(122)\n",
    "for gmpe, color in zip(gmpes, [\"r\", \"b\", \"k\"]):\n",
    "    ax2.semilogx(dctx.rjb, results[\"SA(0.3)\"][str(gmpe)][\"stddev\"], \"-\", color=color, lw=2, label=str(gmpe))\n",
    "ax2.set_xlim(1., 150.)\n",
    "ax2.set_ylim(0.0, 1)\n",
    "ax2.set_xlabel(r\"Distance $R_{JB}$ (km)\", fontsize=14)\n",
    "ax2.set_ylabel(\"Total Standard Deviation, SA(0.3 s)\", fontsize=14)\n",
    "ax2.grid(True)\n",
    "ax2.legend(fontsize=14)"
   ]
  },
  {
   "cell_type": "markdown",
   "metadata": {},
   "source": [
    "# How to use OpenQuake to setup a rupture and site configuration"
   ]
  },
  {
   "cell_type": "markdown",
   "metadata": {},
   "source": [
    "We have seen how to use OpenQuake's GMPE library to plot GMPEs, but the rupture configurations have been quite simplified.\n",
    " \n",
    "In the following example we will take a \"real\" scenario earthquake (Basel) and calculate the expected ground motions for two cities: Basel and Freiburg\n",
    "\n",
    "<b>Basel</b> = 7.6$^{\\circ}$E, 47.567$^{\\circ}$N   $V_{S30}$ = 200 m/s\n",
    "\n",
    "<b>Freiburg</b> = 7.85$^{\\circ}$E, 47.983$^{\\circ}$N  $V_{S30}$ = 500 m/s \n",
    "\n",
    "The Basel earthquake scenario we are considering has the following properties:\n",
    "\n",
    "1. $M_W = 6.5$\n",
    "\n",
    "2. Reverse faulting (rake = $90^{\\circ}$)\n",
    "\n",
    "3. Top of rupture depth of 3 km\n",
    "\n",
    "4. E-W rupture, dipping north at $40^{\\circ}$\n",
    "\n",
    "5. Aspect ratio (L/W) of 1.0\n",
    "\n",
    "6. Wells & Coppersmith Magnitude Scaling relation"
   ]
  },
  {
   "cell_type": "code",
   "execution_count": null,
   "metadata": {
    "collapsed": true
   },
   "outputs": [],
   "source": [
    "# Import the scaling relation\n",
    "from openquake.hazardlib.scalerel import WC1994"
   ]
  },
  {
   "cell_type": "code",
   "execution_count": null,
   "metadata": {},
   "outputs": [],
   "source": [
    "# Set up the rupture information\n",
    "mag = 6.5\n",
    "rake = 90.0\n",
    "aspect = 1.0\n",
    "msr = WC1994()\n",
    "# Get the area, length and width\n",
    "area = msr.get_median_area(mag, rake)\n",
    "length = np.sqrt(area * aspect)\n",
    "width = area / length\n",
    "print(\"Area = %.3f km^2  Length = %.3f km   Width = %.3f km\" % (area, length, width))"
   ]
  },
  {
   "cell_type": "markdown",
   "metadata": {},
   "source": [
    "We will assume the top edge of the rupture is described by an east-west trending line with length as we have just calculated and a westerly extent of 7.533$^{\\circ}$E, 47.577$^{\\circ}$N"
   ]
  },
  {
   "cell_type": "code",
   "execution_count": null,
   "metadata": {},
   "outputs": [],
   "source": [
    "p1 = Point(7.533, 47.577, 3.)\n",
    "\n",
    "# OpenQuake's Point object has a useful function .point_at\n",
    "# This tells you the location (on the earth) of a point located at a given\n",
    "# along-surface distance, vertical distance and azimuth\n",
    "p2 = p1.point_at(length, # along the surface distance \n",
    "                 0., # Vertical distance\n",
    "                 90.) # Azimuth w.r.t. North (so east-west here)\n",
    "print(\"Top of Rupture\\n%s to \\n%s\" % (str(p1), str(p2)))"
   ]
  },
  {
   "cell_type": "markdown",
   "metadata": {},
   "source": [
    "Define the bottom two corners"
   ]
  },
  {
   "cell_type": "code",
   "execution_count": null,
   "metadata": {},
   "outputs": [],
   "source": [
    "dip = 40.0\n",
    "\n",
    "# Need the along surface width of the fault\n",
    "surface_width = width * np.cos(np.radians(dip))\n",
    "# Need the vertical depth range of the fault\n",
    "depth_range = width * np.sin(np.radians(dip))\n",
    "\n",
    "# Bottom two corners - north of the top two\n",
    "p3 = p1.point_at(surface_width, depth_range, 0.0)\n",
    "p4 = p2.point_at(surface_width, depth_range, 0.0)\n",
    "\n",
    "print(\"Bottom of Rupture\\n%s to \\n%s\" % (str(p3), str(p4)))"
   ]
  },
  {
   "cell_type": "markdown",
   "metadata": {},
   "source": [
    "Now build an OpenQuake planar surface"
   ]
  },
  {
   "cell_type": "code",
   "execution_count": null,
   "metadata": {},
   "outputs": [],
   "source": [
    "surface = PlanarSurface.from_corner_points(1.0,\n",
    "                                           top_left=p2, top_right=p1,\n",
    "                                           bottom_left=p4, bottom_right=p3)\n",
    "surface.get_mesh()"
   ]
  },
  {
   "cell_type": "markdown",
   "metadata": {},
   "source": [
    "Define our two target locations"
   ]
  },
  {
   "cell_type": "code",
   "execution_count": null,
   "metadata": {},
   "outputs": [],
   "source": [
    "basel = Point(7.6, 47.567, 0.0)\n",
    "freiburg = Point(7.85, 47.983, 0.0)"
   ]
  },
  {
   "cell_type": "markdown",
   "metadata": {},
   "source": [
    "Now lets plot our configuration in 3D"
   ]
  },
  {
   "cell_type": "code",
   "execution_count": null,
   "metadata": {
    "collapsed": true
   },
   "outputs": [],
   "source": [
    "from mpl_toolkits.mplot3d import Axes3D"
   ]
  },
  {
   "cell_type": "code",
   "execution_count": null,
   "metadata": {},
   "outputs": [],
   "source": [
    "fig = plt.figure(figsize=(8,8))\n",
    "# For 3D plotting we add a new projection keyword to the subplot\n",
    "ax = fig.add_subplot(111, projection=\"3d\")\n",
    "# Plot the fault surface as a wireframce\n",
    "ax.plot_wireframe(surface.mesh.lons, surface.mesh.lats, -surface.mesh.depths, color=\"b\")\n",
    "# Plot the two sites\n",
    "ax.scatter([basel.longitude], [basel.latitude], [basel.depth], s=40, color=\"g\", marker=\"o\")\n",
    "ax.scatter([freiburg.longitude], [freiburg.latitude], [freiburg.depth], s=40, color=\"r\", marker=\"s\")"
   ]
  },
  {
   "cell_type": "markdown",
   "metadata": {},
   "source": [
    "### Basel: Ground Motion"
   ]
  },
  {
   "cell_type": "markdown",
   "metadata": {},
   "source": [
    "With the rupture and site figured we can set up the GMPE calculations"
   ]
  },
  {
   "cell_type": "code",
   "execution_count": null,
   "metadata": {},
   "outputs": [],
   "source": [
    "# Rupture information\n",
    "rctx = RuptureContext()\n",
    "rctx.mag = mag\n",
    "rctx.rake = rake\n",
    "rctx.ztor = 3.0  # Top of rupture depth - not used for these GMPEs\n",
    "\n",
    "# Basel has 200 m/s Vs30\n",
    "sctx = SitesContext()\n",
    "sctx.vs30 = np.array([200.])\n",
    "\n",
    "dctx = DistancesContext()\n",
    "# Calculate the Joyner-Boore distance\n",
    "dctx.rjb = surface.get_joyner_boore_distance(Mesh.from_points_list([basel]))\n",
    "# Calculate the shortests distance to the rupture (rupture distance)\n",
    "dctx.rrup = surface.get_min_distance(Mesh.from_points_list([basel]))\n",
    "print(dctx.rjb, dctx.rrup)"
   ]
  },
  {
   "cell_type": "markdown",
   "metadata": {},
   "source": [
    "Now get the scenario spectrum for Basel"
   ]
  },
  {
   "cell_type": "code",
   "execution_count": null,
   "metadata": {},
   "outputs": [],
   "source": [
    "imts = [SA(per) for per in periods]\n",
    "\n",
    "# See - I said we would need this bit of code again! Here is the function we defined earlier\n",
    "results = calculate_ground_motions(gmpes, imts, sctx, rctx, dctx, stddev_types)\n",
    "\n",
    "# Plot the results\n",
    "plt.figure(figsize=(8,8))\n",
    "for gmpe, color in zip(gmpes, [\"r\", \"b\", \"k\"]):\n",
    "    plt.semilogx(periods, results[str(gmpe)][\"mean\"], \"-\", color=color, lw=2, label=str(gmpe))\n",
    "    plt.semilogx(periods, results[str(gmpe)][\"mean_plus_1sd\"], \"--\", color=color, lw=1.2)\n",
    "    plt.semilogx(periods, results[str(gmpe)][\"mean_minus_1sd\"], \"--\", color=color, lw=1.2)\n",
    "plt.grid()\n",
    "plt.xlabel(\"Period\", fontsize=16)\n",
    "plt.ylabel(\"Sa (g)\", fontsize=16)\n",
    "plt.xlim(0.01, 10.)\n",
    "plt.ylim(bottom=0.0)\n",
    "plt.legend(fontsize=16)"
   ]
  },
  {
   "cell_type": "code",
   "execution_count": null,
   "metadata": {},
   "outputs": [],
   "source": [
    "# And plot the total standard deviations\n",
    "plt.figure(figsize=(8,8))\n",
    "for gmpe, color in zip(gmpes, [\"r\", \"b\", \"k\"]):\n",
    "    plt.semilogx(periods, results[str(gmpe)][\"stddevs\"], \"-\", color=color, lw=2, label=str(gmpe))\n",
    "\n",
    "plt.grid()\n",
    "plt.xlabel(\"Period\", fontsize=16)\n",
    "plt.ylabel(\"Total Std. Dev\", fontsize=16)\n",
    "plt.xlim(0.01, 10.)\n",
    "plt.ylim(0.0, 1.0)\n",
    "plt.legend(fontsize=16)"
   ]
  },
  {
   "cell_type": "markdown",
   "metadata": {},
   "source": [
    "### Freiburg Ground Motion"
   ]
  },
  {
   "cell_type": "markdown",
   "metadata": {},
   "source": [
    "As with Basel, now do the same for Freiburg"
   ]
  },
  {
   "cell_type": "code",
   "execution_count": null,
   "metadata": {},
   "outputs": [],
   "source": [
    "# New distances\n",
    "dctx = DistancesContext()\n",
    "dctx.rjb = surface.get_joyner_boore_distance(Mesh.from_points_list([freiburg]))\n",
    "dctx.rrup = surface.get_min_distance(Mesh.from_points_list([freiburg]))\n",
    "print(dctx.rjb, dctx.rrup)\n",
    "\n",
    "# New site Vs30 values\n",
    "sctx = SitesContext()\n",
    "sctx.vs30 = np.array([500.])"
   ]
  },
  {
   "cell_type": "code",
   "execution_count": null,
   "metadata": {},
   "outputs": [],
   "source": [
    "results = calculate_ground_motions(gmpes, imts, sctx, rctx, dctx, stddev_types)            \n",
    "\n",
    "plt.figure(figsize=(8,8))\n",
    "for gmpe, color in zip(gmpes, [\"r\", \"b\", \"k\"]):\n",
    "    plt.semilogx(periods, results[str(gmpe)][\"mean\"], \"-\", color=color, lw=2, label=str(gmpe))\n",
    "    plt.semilogx(periods, results[str(gmpe)][\"mean_plus_1sd\"], \"--\", color=color, lw=1.2)\n",
    "    plt.semilogx(periods, results[str(gmpe)][\"mean_minus_1sd\"], \"--\", color=color, lw=1.2)\n",
    "plt.grid()\n",
    "plt.xlabel(\"Period\", fontsize=16)\n",
    "plt.ylabel(\"Sa (g)\", fontsize=16)\n",
    "plt.xlim(0.01, 10.)\n",
    "plt.ylim(bottom=0.0)\n",
    "plt.legend(fontsize=16)"
   ]
  },
  {
   "cell_type": "markdown",
   "metadata": {},
   "source": [
    "# Bonus Challenge: What is the probability that the Basel earthquake will damage my structure?"
   ]
  },
  {
   "cell_type": "markdown",
   "metadata": {},
   "source": [
    "An engineer tells you ...\n",
    "\n",
    "\"If my structure is subject to 0.15 g PGA it will suffer a little damage (e.g. cracks)\"\n",
    "\n",
    "\"If my structure is subject to 0.3 g PGA it will suffer moderate damage\"\n",
    "\n",
    "\"If my structure is subject to 0.5 g PGA it will suffer extensive damage, but it should not collapse\"\n",
    "\n",
    "\"If my structure is subject to 0.8 g PGA it will collapse!\"\n",
    "\n",
    "If this Basel earthquake occurs what is the probability that the structure will suffer from little, moderate, and extensive damage? \n",
    "\n",
    "What is the probability it will collapse?\n",
    "\n",
    "The structure is located in Basel!"
   ]
  }
 ],
 "metadata": {
  "kernelspec": {
   "display_name": "Python 3",
   "language": "python",
   "name": "python3"
  },
  "language_info": {
   "codemirror_mode": {
    "name": "ipython",
    "version": 3
   },
   "file_extension": ".py",
   "mimetype": "text/x-python",
   "name": "python",
   "nbconvert_exporter": "python",
   "pygments_lexer": "ipython3",
   "version": "3.5.5"
  }
 },
 "nbformat": 4,
 "nbformat_minor": 1
}
