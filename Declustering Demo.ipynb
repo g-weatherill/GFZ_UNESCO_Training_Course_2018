{
 "cells": [
  {
   "cell_type": "code",
   "execution_count": null,
   "metadata": {},
   "outputs": [],
   "source": [
    "%load_ext autoreload\n",
    "%autoreload 2\n",
    "import warnings; warnings.filterwarnings('ignore')"
   ]
  },
  {
   "cell_type": "code",
   "execution_count": null,
   "metadata": {},
   "outputs": [],
   "source": [
    "%matplotlib inline\n",
    "import numpy as np\n",
    "import pandas as pd\n",
    "# We just need some declustering tools here\n",
    "import declustering_tools as dtls"
   ]
  },
  {
   "cell_type": "markdown",
   "metadata": {},
   "source": [
    "### Load in our earthquake catalogue"
   ]
  },
  {
   "cell_type": "code",
   "execution_count": null,
   "metadata": {},
   "outputs": [],
   "source": [
    "catalogue_file = \"./data/Aegean_ExtendedCat1.csv\"\n",
    "data = pd.read_csv(catalogue_file, sep=\",\")\n",
    "catalogue = dtls.convert_catalogue_to_dict(data)"
   ]
  },
  {
   "cell_type": "markdown",
   "metadata": {},
   "source": [
    "### Run the declustering"
   ]
  },
  {
   "cell_type": "code",
   "execution_count": null,
   "metadata": {},
   "outputs": [],
   "source": [
    "\n",
    "vcl, flagvector = dtls.gruenthal_declustering(catalogue)\n",
    "print(\"%g clusters\" % np.max(vcl))\n",
    "print(\"Original Catalogue = %g events (%g foreshocks, %g mainshocks, %g aftershocks)\" %\n",
    "      (len(vcl), np.sum(flagvector < 0), np.sum(flagvector == 0), np.sum(flagvector > 0)))"
   ]
  },
  {
   "cell_type": "markdown",
   "metadata": {},
   "source": [
    "The declustering algorithm has two outputs:\n",
    "\n",
    "1. `vcl` - this is a vector containing the number of the cluster to which the earthquake belongs (or 0 if not assigned to a cluster)\n",
    "\n",
    "2. `flagvector` - this vector identifies each event as either a mainshock (0), a foreshock (-1) or an aftershock (1)."
   ]
  },
  {
   "cell_type": "code",
   "execution_count": null,
   "metadata": {
    "scrolled": false
   },
   "outputs": [],
   "source": [
    "# Add this data to the cluster\n",
    "data[\"vcl\"] = pd.Series(vcl)\n",
    "data[\"flag\"] = pd.Series(flagvector)\n",
    "data"
   ]
  },
  {
   "cell_type": "markdown",
   "metadata": {},
   "source": [
    "## To visualise a particular cluster sequence here is a simple plotting function"
   ]
  },
  {
   "cell_type": "code",
   "execution_count": null,
   "metadata": {},
   "outputs": [],
   "source": [
    "dtls.plot_cluster_sequence(100, catalogue, vcl, flagvector)"
   ]
  }
 ],
 "metadata": {
  "kernelspec": {
   "display_name": "Python 3",
   "language": "python",
   "name": "python3"
  },
  "language_info": {
   "codemirror_mode": {
    "name": "ipython",
    "version": 3
   },
   "file_extension": ".py",
   "mimetype": "text/x-python",
   "name": "python",
   "nbconvert_exporter": "python",
   "pygments_lexer": "ipython3",
   "version": "3.5.5"
  }
 },
 "nbformat": 4,
 "nbformat_minor": 2
}
