{
 "cells": [
  {
   "cell_type": "markdown",
   "metadata": {},
   "source": [
    "# Calculating Ground Motion Intensity Measures"
   ]
  },
  {
   "cell_type": "markdown",
   "metadata": {},
   "source": [
    "The SMTK contains two modules for the characterisation of ground motion:\n",
    "\n",
    "1) smtk.response_spectrum\n",
    "\n",
    "This module contains methods for calculation of the response of a set of single degree-of-freedom (SDOF) oscillators using an input time series. Two methods are currently supported:\n",
    "\n",
    "    i) Newmark-Beta\n",
    "    \n",
    "    ii) Nigam & Jennings (1969) {Preferred}\n",
    "\n",
    "The module also includes functions for plotting the response spectra and time series\n",
    "\n",
    "2) smtk.intensity_measures \n",
    "\n",
    "This module contains a set of functions for deriving different intensity measures from a strong motion record\n",
    "\n",
    "i) get_peak_measures(...) - returns PGA, PGV and PGD\n",
    "\n",
    "ii) get_response_spectrum(...) - returns the response spectrum\n",
    "\n",
    "iii) get_response_spectrum_pair(...) - returns a response spectrum pair\n",
    "\n",
    "iv) geometric_mean_spectrum(...) - returns the geometric mean of a pair of records\n",
    "\n",
    "v) arithmetic_mean_spectrum(...) - returns the arithmetic mean of a pair of records\n",
    "\n",
    "vi) geometric_mean_spectrum(...) - returns the envelope spectrum of a pair of records\n",
    "\n",
    "vii) larger_pga(...) - Returns the spectrum with the larger PGA\n",
    "\n",
    "viii) rotate_horizontal(...) - rotates a record pair through angle theta\n",
    "\n",
    "ix) gmrotdpp(...) - Returns the rotationally-dependent geometric fractile (pp) of a pair of records\n",
    "\n",
    "x) gmrotipp(...) - Returns the rotationally-independent geometric fractile (pp) of a pair of records\n"
   ]
  },
  {
   "cell_type": "markdown",
   "metadata": {},
   "source": [
    "### Example Usage of the Response Spectrum"
   ]
  },
  {
   "cell_type": "code",
   "execution_count": null,
   "metadata": {},
   "outputs": [],
   "source": [
    "%load_ext autoreload\n",
    "%autoreload 2\n",
    "import warnings; warnings.filterwarnings(\"ignore\")"
   ]
  },
  {
   "cell_type": "code",
   "execution_count": null,
   "metadata": {},
   "outputs": [],
   "source": [
    "# Import modules\n",
    "%matplotlib inline\n",
    "import numpy as np  # Numerical Python package\n",
    "import matplotlib.pyplot as plt # Python plotting package\n",
    "# Import\n",
    "import smtk.response_spectrum as rsp # Response Spectra tools\n",
    "import smtk.intensity_measures as ims # Intensity Measure Tools\n",
    "\n",
    "\n",
    "periods = np.array([0.01, 0.02, 0.03, 0.04, 0.05, 0.075, 0.1, 0.11, 0.12, 0.13, 0.14, 0.15, 0.16, 0.17, 0.18, 0.19,\n",
    "                    0.20, 0.22, 0.24, 0.26, 0.28, 0.30, 0.32, 0.34, 0.36, 0.38, 0.40, 0.42, 0.44, 0.46, 0.48, 0.5, \n",
    "                    0.55, 0.6, 0.65, 0.7, 0.75, 0.8, 0.85, 0.9, 0.95, 1.0, 1.1, 1.2, 1.3, 1.4, 1.5, 1.6, 1.7, 1.8, \n",
    "                    1.9, 2.0, 2.2, 2.4, 2.6, 2.8, 3.0, 3.2, 3.4, 3.6, 3.8, 4.0, 4.2, 4.4, 4.6, 4.8, 5.0, 5.5, 6.0, \n",
    "                    6.5, 7.0,7.5, 8.0, 8.5, 9.0, 9.5, 10.0], dtype=float)\n",
    "number_periods = len(periods)"
   ]
  },
  {
   "cell_type": "code",
   "execution_count": null,
   "metadata": {},
   "outputs": [],
   "source": [
    "# Load record pair from files\n",
    "x_record = np.genfromtxt(\"data/sm_record_x.txt\")\n",
    "y_record = np.genfromtxt(\"data/sm_record_y.txt\")\n",
    "\n",
    "x_time_step = 0.002 # Record sampled at 0.002 s  \n",
    "y_time_step = 0.002"
   ]
  },
  {
   "cell_type": "markdown",
   "metadata": {},
   "source": [
    "### Get Response Spectrum - Nigam & Jennings"
   ]
  },
  {
   "cell_type": "code",
   "execution_count": null,
   "metadata": {},
   "outputs": [],
   "source": [
    "# Create an instance of the Newmark-Beta class\n",
    "nigam_jennings = rsp.NigamJennings(x_record, x_time_step, periods, damping=0.05, units=\"cm/s/s\")\n",
    "sax, time_series, acc, vel, dis = nigam_jennings()\n",
    "\n",
    "# Plot Response Spectrum\n",
    "rsp.plot_response_spectra(sax, axis_type=\"semilogx\",\n",
    "                          filename=\"images/response_nigam_jennings.pdf\",\n",
    "                          filetype=\"pdf\")"
   ]
  },
  {
   "cell_type": "markdown",
   "metadata": {},
   "source": [
    "### Plot Time Series"
   ]
  },
  {
   "cell_type": "code",
   "execution_count": null,
   "metadata": {},
   "outputs": [],
   "source": [
    "rsp.plot_time_series(time_series[\"Acceleration\"],\n",
    "                     x_time_step,\n",
    "                     time_series[\"Velocity\"],\n",
    "                     time_series[\"Displacement\"])"
   ]
  },
  {
   "cell_type": "markdown",
   "metadata": {},
   "source": [
    "### Intensity Measures"
   ]
  },
  {
   "cell_type": "markdown",
   "metadata": {},
   "source": [
    "#### Get PGA, PGV and PGD"
   ]
  },
  {
   "cell_type": "code",
   "execution_count": null,
   "metadata": {},
   "outputs": [],
   "source": [
    "pga_x, pgv_x, pgd_x, _, _ = ims.get_peak_measures(0.002, x_record, True, True)\n",
    "print(\"PGA = %10.7f cm/s/s,  PGV = %10.7f cm/s,   PGD = %10.7f cm\" % (pga_x, pgv_x, pgd_x))\n",
    "pga_y, pgv_y, pgd_y, _, _ = ims.get_peak_measures(0.002, y_record, True, True)\n",
    "print(\"PGA = %10.7f cm/s/s,  PGV = %10.7f cm/s,   PGD = %10.7f cm\" % (pga_y, pgv_y, pgd_y))"
   ]
  },
  {
   "cell_type": "markdown",
   "metadata": {},
   "source": [
    "#### Get Durations: Bracketed, Uniform, Significant"
   ]
  },
  {
   "cell_type": "code",
   "execution_count": null,
   "metadata": {},
   "outputs": [],
   "source": [
    "print(\"Bracketed Duration (> 5 cm/s/s) = %9.7f s\" % ims.get_bracketed_duration(x_record, x_time_step, 5.0))\n",
    "print(\"Uniform Duration (> 5 cm/s/s) = %9.7f s\" % ims.get_uniform_duration(x_record, x_time_step, 5.0))\n",
    "print(\"Significant Duration (5 - 95 Arias ) = %9.7f s\" % ims.get_significant_duration(x_record, x_time_step, 0.05, 0.95))"
   ]
  },
  {
   "cell_type": "markdown",
   "metadata": {},
   "source": [
    "#### Get Arias Intensity, CAV, CAV5 and rms acceleration"
   ]
  },
  {
   "cell_type": "code",
   "execution_count": null,
   "metadata": {},
   "outputs": [],
   "source": [
    "print(\"Arias Intensity = %12.7f cm-s\" % ims.get_arias_intensity(x_record, x_time_step))\n",
    "print(\"Arias Intensity (5 - 95) = %12.7f cm-s\" % ims.get_arias_intensity(x_record, x_time_step, 0.05, 0.95))\n",
    "print(\"CAV = %12.7f cm-s\" % ims.get_cav(x_record, x_time_step))\n",
    "print(\"CAV5 = %12.7f cm-s\" % ims.get_cav(x_record, x_time_step, threshold=5.0))\n",
    "print(\"Arms = %12.7f cm-s\" % ims.get_arms(x_record, x_time_step))"
   ]
  },
  {
   "cell_type": "markdown",
   "metadata": {},
   "source": [
    "##### Spectrum Intensities: Housner Intensity, Acceleration Spectrum Intensity"
   ]
  },
  {
   "cell_type": "code",
   "execution_count": null,
   "metadata": {},
   "outputs": [],
   "source": [
    "# Get response spectrum\n",
    "sax = ims.get_response_spectrum(x_record, x_time_step, periods)[0]\n",
    "print(\"Velocity Spectrum Intensity (cm/s/s) = %12.7f\" % ims.get_response_spectrum_intensity(sax))\n",
    "print(\"Acceleration Spectrum Intensity (cm-s) = %12.7f\" % ims.get_acceleration_spectrum_intensity(sax))\n"
   ]
  },
  {
   "cell_type": "markdown",
   "metadata": {},
   "source": [
    "#### Get the response spectrum pair from two records"
   ]
  },
  {
   "cell_type": "code",
   "execution_count": null,
   "metadata": {},
   "outputs": [],
   "source": [
    "sax, say = ims.get_response_spectrum_pair(x_record, x_time_step,\n",
    "                                          y_record, y_time_step,\n",
    "                                          periods,\n",
    "                                          damping=0.05,\n",
    "                                          units=\"cm/s/s\",\n",
    "                                          method=\"Nigam-Jennings\")\n"
   ]
  },
  {
   "cell_type": "markdown",
   "metadata": {},
   "source": [
    "#### Get Geometric Mean Spectrum"
   ]
  },
  {
   "cell_type": "code",
   "execution_count": null,
   "metadata": {
    "scrolled": true
   },
   "outputs": [],
   "source": [
    "sa_gm = ims.geometric_mean_spectrum(sax, say)\n",
    "rsp.plot_response_spectra(sa_gm, \"semilogx\", filename=\"images/geometric_mean_spectrum.pdf\", filetype=\"pdf\")"
   ]
  },
  {
   "cell_type": "markdown",
   "metadata": {},
   "source": [
    "#### Get Envelope Spectrum"
   ]
  },
  {
   "cell_type": "code",
   "execution_count": null,
   "metadata": {},
   "outputs": [],
   "source": [
    "sa_env = ims.envelope_spectrum(sax, say)\n",
    "rsp.plot_response_spectra(sa_env, \"semilogx\", filename=\"images/envelope_spectrum.pdf\", filetype=\"pdf\")"
   ]
  },
  {
   "cell_type": "markdown",
   "metadata": {},
   "source": [
    "### Rotationally Dependent and Independent IMs"
   ]
  },
  {
   "cell_type": "markdown",
   "metadata": {},
   "source": [
    "#### GMRotD50 and GMRotI50"
   ]
  },
  {
   "cell_type": "code",
   "execution_count": null,
   "metadata": {},
   "outputs": [],
   "source": [
    "gmrotd50 = ims.gmrotdpp(x_record, x_time_step, y_record, y_time_step, periods, percentile=50.0,\n",
    "                                               damping=0.05, units=\"cm/s/s\")\n",
    "gmroti50 = ims.gmrotipp(x_record, x_time_step, y_record, y_time_step, periods, percentile=50.0,\n",
    "                                               damping=0.05, units=\"cm/s/s\")"
   ]
  },
  {
   "cell_type": "code",
   "execution_count": null,
   "metadata": {},
   "outputs": [],
   "source": [
    "# Plot all of the rotational angles!\n",
    "plt.figure(figsize=(8, 6))\n",
    "for row in gmrotd50[\"GeoMeanPerAngle\"]:\n",
    "    plt.semilogx(periods, row, \"-\", color=\"LightGray\")\n",
    "plt.semilogx(periods, gmrotd50[\"GMRotDpp\"], 'b-', linewidth=2, label=\"GMRotD50\")\n",
    "plt.semilogx(periods, gmroti50[\"Pseudo-Acceleration\"], 'r-', linewidth=2, label=\"GMRotI50\")\n",
    "plt.xlabel(\"Period (s)\", fontsize=18)\n",
    "plt.ylabel(\"Acceleration (cm/s/s)\", fontsize=18)\n",
    "plt.legend(loc=0)\n",
    "plt.savefig(\"images/rotational_spectra.pdf\", dpi=300, format=\"pdf\")\n"
   ]
  },
  {
   "cell_type": "raw",
   "metadata": {},
   "source": [
    "rotd50 = ims.rotdpp(x_record, x_time_step, y_record, y_time_step, periods, percentile=50.0,\n",
    "                    damping=0.05, units=\"cm/s/s\")[0]\n",
    "plt.semilogx(periods, rotd50[\"Pseudo-Acceleration\"], 'b-', linewidth=2, label=\"RotD50\")\n",
    "plt.xlabel(\"Period (s)\", fontsize=18)\n",
    "plt.ylabel(\"Acceleration (cm/s/s)\", fontsize=18)\n",
    "plt.legend(loc=0)\n",
    "plt.savefig(\"images/rotd50_spectrum.pdf\", dpi=300, format=\"pdf\")\n",
    "roti50 = ims.rotipp(x_record, x_time_step, y_record, y_time_step, periods, percentile=50.0,\n",
    "                    damping=0.05, units=\"cm/s/s\")"
   ]
  }
 ],
 "metadata": {
  "kernelspec": {
   "display_name": "Python 3",
   "language": "python",
   "name": "python3"
  },
  "language_info": {
   "codemirror_mode": {
    "name": "ipython",
    "version": 3
   },
   "file_extension": ".py",
   "mimetype": "text/x-python",
   "name": "python",
   "nbconvert_exporter": "python",
   "pygments_lexer": "ipython3",
   "version": "3.5.5"
  }
 },
 "nbformat": 4,
 "nbformat_minor": 1
}
