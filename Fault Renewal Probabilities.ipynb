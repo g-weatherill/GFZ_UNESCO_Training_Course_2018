{
 "cells": [
  {
   "cell_type": "markdown",
   "metadata": {},
   "source": [
    "# Renewal Models"
   ]
  },
  {
   "cell_type": "code",
   "execution_count": null,
   "metadata": {},
   "outputs": [],
   "source": [
    "%matplotlib inline\n",
    "import numpy as np\n",
    "import matplotlib.pyplot as plt\n",
    "from scipy.stats import norm, lognorm\n",
    "\n",
    "\n",
    "def bpt_pdf(t, mu, alpha):\n",
    "    \"\"\"\n",
    "    Implements the Brownian Passage Time probability density function\n",
    "    \"\"\"\n",
    "    coeff = np.sqrt(mu / (2. * np.pi * (alpha ** 2.) * (t ** 3.)))\n",
    "    return coeff * np.exp((-(t - mu) ** 2.) / (2. * mu * (alpha ** 2.) * t))\n",
    "\n",
    "def bpt_cdf(t, mu, alpha):\n",
    "    \"\"\"\n",
    "    Implements the Brownian Passage Time cumulative density function\n",
    "    \"\"\"\n",
    "    u1_t = (1. / alpha) * ((t ** 0.5) * (mu ** -0.5) - (t ** -0.5) * (mu ** 0.5))\n",
    "    u2_t = (1. / alpha) * ((t ** 0.5) * (mu ** -0.5) + (t ** -0.5) * (mu ** 0.5))\n",
    "    return norm.cdf(u1_t) + np.exp(2. / (alpha ** 2.)) * norm.cdf(-u2_t)\n",
    "\n",
    "to_moment = lambda m: 10.0 ** (1.5 * m + 9.05)\n",
    "to_magnitude = lambda m: (2. / 3.) * (np.log10(m) - 9.05)"
   ]
  },
  {
   "cell_type": "markdown",
   "metadata": {},
   "source": [
    "Earthquakes are given to have occurred in:\n",
    "\n",
    "170, 450, 630, 810, 970, 1095, 1310, 1470, 1630, 1760, 1868\n",
    "\n",
    "Determine the inter-event times:"
   ]
  },
  {
   "cell_type": "code",
   "execution_count": null,
   "metadata": {},
   "outputs": [],
   "source": [
    "event_years = np.array([170., 450., 630., 810., 970., 1095., 1310., 1470., 1630., 1760., 1868.])\n",
    "inter_event_times = np.diff(event_years)\n",
    "print(inter_event_times)"
   ]
  },
  {
   "cell_type": "markdown",
   "metadata": {},
   "source": [
    "Calculate Mean, Standard Deviation and Coefficient of Variation:"
   ]
  },
  {
   "cell_type": "code",
   "execution_count": null,
   "metadata": {},
   "outputs": [],
   "source": [
    "mu = np.mean(np.abs(inter_event_times))\n",
    "print(\"Mean inter-event time: %.2f\" % mu)\n",
    "lamda = 1. / mu\n",
    "print(\"Average Rate of Events: %.6f\" % lamda)\n",
    "sigma = np.std(np.abs(inter_event_times))\n",
    "print(\"Variability in inter-event time %.2f\" % sigma)\n",
    "alpha = sigma / mu\n",
    "print(\"Coefficient of variation (aperiodicity) %.4f\" % alpha)"
   ]
  },
  {
   "cell_type": "markdown",
   "metadata": {},
   "source": [
    "Set start date and event date:"
   ]
  },
  {
   "cell_type": "code",
   "execution_count": null,
   "metadata": {},
   "outputs": [],
   "source": [
    "start_date = 2018.\n",
    "end_date = 2038.\n",
    "last_event_date = 1868.\n",
    "d_t = end_date - start_date"
   ]
  },
  {
   "cell_type": "markdown",
   "metadata": {},
   "source": [
    "### Poisson Model"
   ]
  },
  {
   "cell_type": "markdown",
   "metadata": {},
   "source": [
    "In a Poisson Model the probability of an event occurring in time, $\\Delta T$, years is:\n",
    "\n",
    "$P \\left( {\\Delta T | \\lambda} \\right) = 1 - e^{-\\lambda \\Delta T}$\n",
    "\n",
    "where the rate ($\\lambda$) = $\\frac{1}{\\mu}$"
   ]
  },
  {
   "cell_type": "code",
   "execution_count": null,
   "metadata": {},
   "outputs": [],
   "source": [
    "poisson_prob = 1.0 - np.exp(-lamda * d_t)\n",
    "print(\"The probability of occurrence in the next %g years\\n (according to the Poisson Model) is %.6f\" % (d_t, poisson_prob))"
   ]
  },
  {
   "cell_type": "markdown",
   "metadata": {},
   "source": [
    "### Lognormal Model"
   ]
  },
  {
   "cell_type": "markdown",
   "metadata": {},
   "source": [
    "In the lognormal model the probability of an event occuring in time $\\Delta T$ years is:\n",
    "\n",
    "$P \\left( {t \\leq T \\leq T + \\Delta T | t} \\right) = \\frac{\\int_T^{T + \\Delta T} f \\left( {t} \\right) dt}{\\int_T^{\\infty} f \\left( {t} \\right) dt} = \\frac{F \\left( {T + \\Delta T} \\right) - F \\left( T \\right)}{1 - F\\left( T \\right)}$\n",
    "\n",
    "where\n",
    "\n",
    "$f\\left( t \\right) = \\frac{1}{t\\sigma_{\\ln T}\\sqrt(2\\pi)} \\exp \\left( {\\frac{-\\left( {\\ln t - \\mu} \\right)^2}{2\\sigma_{\\ln T}^2 }}\\right)$\n",
    "\n",
    "See here for details on the use of scipy.stats.lognorm:\n",
    "\n",
    "https://docs.scipy.org/doc/scipy/reference/generated/scipy.stats.lognorm.html"
   ]
  },
  {
   "cell_type": "code",
   "execution_count": null,
   "metadata": {},
   "outputs": [],
   "source": [
    "sigma_lnT = np.std(np.log(inter_event_times))\n",
    "mu = np.exp(np.mean(np.log(inter_event_times)))\n",
    "\n",
    "F_T = lognorm.cdf(start_date - last_event_date, s=sigma_lnT, scale=mu)\n",
    "\n",
    "F_T_DT = lognorm.cdf(end_date - last_event_date, s=sigma_lnT, scale=mu)\n",
    "\n",
    "lognorm_prob = (F_T_DT - F_T) / (1.0 - F_T)\n",
    "\n",
    "print(\"The probability of occurrence in the next %g years\\n (according to the Lognormal Model) is %.6f\" % (d_t, lognorm_prob))"
   ]
  },
  {
   "cell_type": "markdown",
   "metadata": {},
   "source": [
    "### Brownian Passage Time (BPT) Model"
   ]
  },
  {
   "cell_type": "markdown",
   "metadata": {},
   "source": [
    "In the BPT model the probability of an event occuring in time $\\Delta T$ years is:\n",
    "\n",
    "$P \\left( {t \\leq T \\leq T + \\Delta T | t} \\right) = \\frac{\\int_T^{T + \\Delta T} f \\left( {t} \\right) dt}{\\int_T^{\\infty} f \\left( {t} \\right) dt} = \\frac{F \\left( {T + \\Delta T} \\right) - F \\left( T \\right)}{1 - F\\left( T \\right)}$\n",
    "\n",
    "where\n",
    "\n",
    "$f\\left( t \\right) = \\sqrt{\\frac{\\mu}{2\\pi\\alpha^2t^3}} \\exp \\left( {\\frac{-\\left( {t - \\mu} \\right)^2}{2\\mu\\alpha^2t}}\\right)$"
   ]
  },
  {
   "cell_type": "code",
   "execution_count": null,
   "metadata": {},
   "outputs": [],
   "source": [
    "F_T = bpt_cdf(start_date - last_event_date, mu, alpha)\n",
    "F_T_DT = bpt_cdf(end_date - last_event_date, mu, alpha)\n",
    "\n",
    "bpt_prob = (F_T_DT - F_T) / (1.0 - F_T)\n",
    "\n",
    "print(\"The probability of occurrence in the next %g years\\n (according to the BPT Model) is %.6f\" % (d_t, bpt_prob))"
   ]
  },
  {
   "cell_type": "markdown",
   "metadata": {},
   "source": [
    "### Bonus Challenge!"
   ]
  },
  {
   "cell_type": "markdown",
   "metadata": {},
   "source": [
    "The last event occurred in 1868. Produce a plot showing the probability of occurrence in each year between 1868 and 2050 for each of the three different models: Poisson, Lognormal, Brownian Passage Time"
   ]
  }
 ],
 "metadata": {
  "kernelspec": {
   "display_name": "Python 3",
   "language": "python",
   "name": "python3"
  },
  "language_info": {
   "codemirror_mode": {
    "name": "ipython",
    "version": 3
   },
   "file_extension": ".py",
   "mimetype": "text/x-python",
   "name": "python",
   "nbconvert_exporter": "python",
   "pygments_lexer": "ipython3",
   "version": "3.5.5"
  }
 },
 "nbformat": 4,
 "nbformat_minor": 1
}
