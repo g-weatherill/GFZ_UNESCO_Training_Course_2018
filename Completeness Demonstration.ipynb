{
 "cells": [
  {
   "cell_type": "markdown",
   "metadata": {},
   "source": [
    "# Brief"
   ]
  },
  {
   "cell_type": "markdown",
   "metadata": {},
   "source": [
    "An earthquake catalogue is an archive of all of the earthquakes we know about, but how do we know whether we have recorded everything that has happened?\n",
    "\n",
    "Let's take a look at some idealised examples"
   ]
  },
  {
   "cell_type": "code",
   "execution_count": null,
   "metadata": {},
   "outputs": [],
   "source": [
    "# Just a few libraries needed this time\n",
    "%matplotlib inline\n",
    "import numpy as np\n",
    "import matplotlib.pyplot as plt\n",
    "from matplotlib.colors import LogNorm, Normalize"
   ]
  },
  {
   "cell_type": "markdown",
   "metadata": {},
   "source": [
    "# Visualising Catalogue Information "
   ]
  },
  {
   "cell_type": "markdown",
   "metadata": {},
   "source": [
    "The starting point in understanding completeness is simply to look at the changes in numbers of earthquakes with time."
   ]
  },
  {
   "cell_type": "code",
   "execution_count": null,
   "metadata": {},
   "outputs": [],
   "source": [
    "def plot_magnitude_time_density(magnitudes, years, mbins, time_bins,\n",
    "                                completeness_table=[], vmin=1, vmax=100,\n",
    "                                filename=None, filetype=\"png\", dpi=300):\n",
    "    \"\"\"\n",
    "    Create a magnitude density plot\n",
    "    :param magnitudes:\n",
    "        Vector of magnitudes\n",
    "    :param years:\n",
    "        Vector of years\n",
    "    :param mbins:\n",
    "        Edges of the magnitude bins\n",
    "    :param time_bins:\n",
    "        Edges of the time bins\n",
    "    :param completeness_table:\n",
    "        If present, the table of completeness\n",
    "    \"\"\"\n",
    "    # Generate a 2-D historgram in terms of magnitude and time\n",
    "    counter = np.histogram2d(years, magnitudes, bins=(time_bins,mbins))[0]\n",
    "    # Plot the density\n",
    "    plt.figure(figsize=(10,6))\n",
    "    plt.pcolormesh(time_bins[:-1], mbins[:-1],\n",
    "                   counter.T, norm=LogNorm(vmin, vmax))\n",
    "    # Add axes and labels\n",
    "    plt.xlabel(\"Year\", fontsize=16)\n",
    "    plt.ylabel(\"Magnitude\", fontsize=16)\n",
    "    plt.tick_params(labelsize=14)\n",
    "    plt.colorbar()\n",
    "    plt.grid()\n",
    "    # If a completeness table is given add on a step line\n",
    "    if len(completeness_table):\n",
    "        completeness = np.array(completeness_table)\n",
    "        plt.step(completeness[:, 0], completeness[:, 1], \"k--\", lw=2)\n",
    "    # If the filename is specified then export to file \n",
    "    if filename:\n",
    "        plt.savefig(filename, format=filetype, dpi=300, bbox_inches=\"tight\")"
   ]
  },
  {
   "cell_type": "markdown",
   "metadata": {},
   "source": [
    "### Load in the catalogue"
   ]
  },
  {
   "cell_type": "code",
   "execution_count": null,
   "metadata": {},
   "outputs": [],
   "source": [
    "# Load in the catalogues\n",
    "catalogue1 = np.genfromtxt(\"./test_completeness_catalogue_1.csv\",\n",
    "                           delimiter=\",\",\n",
    "                           skip_header=1)\n",
    "# First column is magnitudes\n",
    "magnitudes1 = catalogue1[:, 0]\n",
    "\n",
    "# Second column is years\n",
    "years1 = catalogue1[:, 1]\n",
    "plt.plot(years1, magnitudes1, \".\")"
   ]
  },
  {
   "cell_type": "markdown",
   "metadata": {},
   "source": [
    "well ... something's going on, but the plot is not so informative. Let's look at the density instead ..."
   ]
  },
  {
   "cell_type": "markdown",
   "metadata": {},
   "source": [
    "### Visualise the density of events with time"
   ]
  },
  {
   "cell_type": "code",
   "execution_count": null,
   "metadata": {},
   "outputs": [],
   "source": [
    "magnitude_bins = np.arange(3.0, 7.1, 0.1)\n",
    "year_bins = np.arange(1900., 2016., 1)\n",
    "plot_magnitude_time_density(magnitudes1, years1,\n",
    "                            mbins=magnitude_bins,\n",
    "                            time_bins=year_bins)"
   ]
  },
  {
   "cell_type": "markdown",
   "metadata": {},
   "source": [
    "# Looking at changes in rates "
   ]
  },
  {
   "cell_type": "markdown",
   "metadata": {},
   "source": [
    "A surprisingly effective way of analysing the completeness is by looking at the cumulative number of events recorded in each magnitude bin "
   ]
  },
  {
   "cell_type": "code",
   "execution_count": null,
   "metadata": {},
   "outputs": [],
   "source": [
    "def cumulative_rates(magnitudes, years, completeness_table,\n",
    "                      filename=None, filetype=\"png\", dpi=300):\n",
    "    \"\"\"\n",
    "    Produces a plot of the cumulative number of events in\n",
    "    each magnitude bin to identify completeness\n",
    "    \"\"\"\n",
    "    # Completeness table is a list, make it an array\n",
    "    ctable = np.array(completeness_table)\n",
    "    bins = ctable[:, 1]\n",
    "    plt.figure(figsize=(8,8))\n",
    "    for i in range(len(bins) - 1):\n",
    "        #  Create a boolean vector of events within a given\n",
    "        #  magnitude range - then convert to floats\n",
    "        idx = np.logical_and(magnitudes >= bins[i],\n",
    "                             magnitudes < bins[i + 1]).astype(float)\n",
    "        if not np.any(idx):\n",
    "            # If no earthquakes, skip ahead\n",
    "            continue\n",
    "        # Generate the cumulative number of events\n",
    "        count = np.cumsum(idx)\n",
    "        # Normalise so that the cumulative number of events per\n",
    "        # bin goes to 1\n",
    "        count /= float(count[-1])\n",
    "        # Plot the cumulative number of countes\n",
    "        plt.plot(years, count, \"-\", lw=2,\n",
    "                 label=\"%.1f - %.1f\" % (bins[i], bins[i + 1]))\n",
    "        # Locate where to place the completeness marker in the\n",
    "        # normalised curves\n",
    "        iloc = np.searchsorted(years, completeness_table[i][0])\n",
    "        line = plt.plot(years[iloc], count[iloc], \"s\",\n",
    "                        markeredgecolor=\"k\", markerfacecolor=\"r\")[0]\n",
    "        line.set_clip_on(False)\n",
    "    #  Complete the figure setup\n",
    "    plt.grid()\n",
    "    plt.legend(loc=2, fontsize=14)\n",
    "    plt.xlabel(\"Year\", fontsize=16)\n",
    "    plt.ylabel(\"Normalised Cumulative Rate\", fontsize=16)\n",
    "    plt.tick_params(labelsize=14)\n",
    "    if filename:\n",
    "        plt.savefig(filename, format=filetype, dpi=dpi, bbox_inches=\"tight\")\n"
   ]
  },
  {
   "cell_type": "markdown",
   "metadata": {},
   "source": [
    "Let's look at where the cumulative number of rates are changing - where do these changes occur?"
   ]
  },
  {
   "cell_type": "code",
   "execution_count": null,
   "metadata": {},
   "outputs": [],
   "source": [
    "# Setup a \"dummy\" completeness table - the second column delineates the magnitude bin edges\n",
    "# - we don't know the completeness time periods yet \n",
    "dummy_completeness_table = [[1900, 3.0],\n",
    "                            [1900, 3.5],\n",
    "                            [1900, 4.0],\n",
    "                            [1900, 4.5],\n",
    "                            [1900, 5.0],\n",
    "                            [1900, 5.5],\n",
    "                            [1900, 6.0],\n",
    "                            [1900, 6.5]]\n",
    "\n",
    "cumulative_rates(magnitudes1, years1, dummy_completeness_table)"
   ]
  },
  {
   "cell_type": "code",
   "execution_count": null,
   "metadata": {},
   "outputs": [],
   "source": [
    "completeness_table = [[2005, 3.0],\n",
    "                      [2005, 3.5],\n",
    "                      [1990, 4.0],\n",
    "                      [1975, 4.5],\n",
    "                      [1960, 5.0],\n",
    "                      [1950, 5.5],\n",
    "                      [1900, 6.0],\n",
    "                      [1900, 6.5]]\n",
    "cumulative_rates(magnitudes1, years1, completeness_table)"
   ]
  },
  {
   "cell_type": "markdown",
   "metadata": {},
   "source": [
    "### Now we can look at the density plot again"
   ]
  },
  {
   "cell_type": "code",
   "execution_count": null,
   "metadata": {},
   "outputs": [],
   "source": [
    "magnitude_bins = np.arange(3.0, 7.1, 0.1)\n",
    "year_bins = np.arange(1900., 2016., 1)\n",
    "plot_magnitude_time_density(magnitudes1, years1,\n",
    "                            mbins=magnitude_bins,\n",
    "                            time_bins=year_bins,\n",
    "                            completeness_table=completeness_table)"
   ]
  },
  {
   "cell_type": "markdown",
   "metadata": {},
   "source": [
    "### This example is a little oversimplified. Now try something a bit more realistic"
   ]
  },
  {
   "cell_type": "code",
   "execution_count": null,
   "metadata": {},
   "outputs": [],
   "source": [
    "# Load in the catalogues\n",
    "catalogue2 = np.genfromtxt(\"./test_completeness_catalogue_2.csv\",\n",
    "                           delimiter=\",\",\n",
    "                           skip_header=1)\n",
    "# First column is magnitudes\n",
    "magnitudes2 = catalogue2[:, 0]\n",
    "\n",
    "# Second column is years\n",
    "years2 = catalogue2[:, 1]\n",
    "\n",
    "magnitude_bins = np.arange(3.0, 7.1, 0.1)\n",
    "year_bins = np.arange(1900., 2016., 1)\n",
    "plot_magnitude_time_density(magnitudes2, years2,\n",
    "                            mbins=magnitude_bins,\n",
    "                            time_bins=year_bins)"
   ]
  },
  {
   "cell_type": "code",
   "execution_count": null,
   "metadata": {},
   "outputs": [],
   "source": [
    "dummy_completeness_table = [[1900, 3.0],\n",
    "                            [1900, 3.5],\n",
    "                            [1900, 4.0],\n",
    "                            [1900, 4.5],\n",
    "                            [1900, 5.0],\n",
    "                            [1900, 5.5],\n",
    "                            [1900, 6.0],\n",
    "                            [1900, 6.5]]\n",
    "\n",
    "cumulative_rates(magnitudes2, years2, dummy_completeness_table)"
   ]
  },
  {
   "cell_type": "code",
   "execution_count": null,
   "metadata": {},
   "outputs": [],
   "source": [
    "completeness_table = [[2005, 3.0],\n",
    "                      [2005, 3.5],\n",
    "                      [1990, 4.0],\n",
    "                      [1975, 4.5],\n",
    "                      [1960, 5.0],\n",
    "                      [1950, 5.5],\n",
    "                      [1900, 6.0],\n",
    "                      [1900, 6.5]]\n",
    "cumulative_rates(magnitudes2, years2, completeness_table)"
   ]
  },
  {
   "cell_type": "code",
   "execution_count": null,
   "metadata": {},
   "outputs": [],
   "source": []
  }
 ],
 "metadata": {
  "kernelspec": {
   "display_name": "Python 3",
   "language": "python",
   "name": "python3"
  },
  "language_info": {
   "codemirror_mode": {
    "name": "ipython",
    "version": 3
   },
   "file_extension": ".py",
   "mimetype": "text/x-python",
   "name": "python",
   "nbconvert_exporter": "python",
   "pygments_lexer": "ipython3",
   "version": "3.5.5"
  }
 },
 "nbformat": 4,
 "nbformat_minor": 2
}
